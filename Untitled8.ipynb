{
  "nbformat": 4,
  "nbformat_minor": 0,
  "metadata": {
    "colab": {
      "provenance": [],
      "authorship_tag": "ABX9TyPdHXWGX0OM0MSFDj27jas9",
      "include_colab_link": true
    },
    "kernelspec": {
      "name": "python3",
      "display_name": "Python 3"
    },
    "language_info": {
      "name": "python"
    }
  },
  "cells": [
    {
      "cell_type": "markdown",
      "metadata": {
        "id": "view-in-github",
        "colab_type": "text"
      },
      "source": [
        "<a href=\"https://colab.research.google.com/github/npham270888/Emotional-Detector/blob/main/Untitled8.ipynb\" target=\"_parent\"><img src=\"https://colab.research.google.com/assets/colab-badge.svg\" alt=\"Open In Colab\"/></a>"
      ]
    },
    {
      "cell_type": "code",
      "execution_count": null,
      "metadata": {
        "colab": {
          "base_uri": "https://localhost:8080/"
        },
        "id": "v3tg8vBFVEfG",
        "outputId": "78130d57-ec76-402b-d236-9362178c2836"
      },
      "outputs": [
        {
          "output_type": "stream",
          "name": "stderr",
          "text": [
            "[nltk_data] Downloading package punkt to /root/nltk_data...\n",
            "[nltk_data]   Package punkt is already up-to-date!\n",
            "[nltk_data] Downloading package stopwords to /root/nltk_data...\n",
            "[nltk_data]   Package stopwords is already up-to-date!\n",
            "[nltk_data] Downloading package wordnet to /root/nltk_data...\n",
            "[nltk_data]   Package wordnet is already up-to-date!\n"
          ]
        },
        {
          "output_type": "stream",
          "name": "stdout",
          "text": [
            "Epoch 1/10\n"
          ]
        },
        {
          "output_type": "stream",
          "name": "stderr",
          "text": [
            "/usr/local/lib/python3.11/dist-packages/keras/src/layers/core/embedding.py:90: UserWarning: Argument `input_length` is deprecated. Just remove it.\n",
            "  warnings.warn(\n"
          ]
        },
        {
          "output_type": "stream",
          "name": "stdout",
          "text": [
            "\u001b[1m500/500\u001b[0m \u001b[32m━━━━━━━━━━━━━━━━━━━━\u001b[0m\u001b[37m\u001b[0m \u001b[1m56s\u001b[0m 109ms/step - accuracy: 0.7286 - loss: 0.4898 - val_accuracy: 0.8744 - val_loss: 0.3040\n",
            "Epoch 2/10\n",
            "\u001b[1m500/500\u001b[0m \u001b[32m━━━━━━━━━━━━━━━━━━━━\u001b[0m\u001b[37m\u001b[0m \u001b[1m86s\u001b[0m 117ms/step - accuracy: 0.9680 - loss: 0.0947 - val_accuracy: 0.8565 - val_loss: 0.3986\n",
            "Epoch 3/10\n",
            "\u001b[1m500/500\u001b[0m \u001b[32m━━━━━━━━━━━━━━━━━━━━\u001b[0m\u001b[37m\u001b[0m \u001b[1m77s\u001b[0m 107ms/step - accuracy: 0.9964 - loss: 0.0128 - val_accuracy: 0.8615 - val_loss: 0.6255\n",
            "Epoch 4/10\n",
            "\u001b[1m500/500\u001b[0m \u001b[32m━━━━━━━━━━━━━━━━━━━━\u001b[0m\u001b[37m\u001b[0m \u001b[1m84s\u001b[0m 112ms/step - accuracy: 0.9997 - loss: 0.0015 - val_accuracy: 0.8648 - val_loss: 0.7485\n",
            "Epoch 5/10\n",
            "\u001b[1m500/500\u001b[0m \u001b[32m━━━━━━━━━━━━━━━━━━━━\u001b[0m\u001b[37m\u001b[0m \u001b[1m56s\u001b[0m 113ms/step - accuracy: 1.0000 - loss: 1.5271e-04 - val_accuracy: 0.8648 - val_loss: 0.8841\n",
            "Epoch 6/10\n",
            "\u001b[1m500/500\u001b[0m \u001b[32m━━━━━━━━━━━━━━━━━━━━\u001b[0m\u001b[37m\u001b[0m \u001b[1m54s\u001b[0m 109ms/step - accuracy: 1.0000 - loss: 2.3110e-05 - val_accuracy: 0.8651 - val_loss: 0.9179\n",
            "Epoch 7/10\n",
            "\u001b[1m500/500\u001b[0m \u001b[32m━━━━━━━━━━━━━━━━━━━━\u001b[0m\u001b[37m\u001b[0m \u001b[1m82s\u001b[0m 110ms/step - accuracy: 1.0000 - loss: 1.5504e-05 - val_accuracy: 0.8655 - val_loss: 0.9456\n",
            "Epoch 8/10\n",
            "\u001b[1m500/500\u001b[0m \u001b[32m━━━━━━━━━━━━━━━━━━━━\u001b[0m\u001b[37m\u001b[0m \u001b[1m82s\u001b[0m 109ms/step - accuracy: 1.0000 - loss: 1.0440e-05 - val_accuracy: 0.8655 - val_loss: 0.9723\n",
            "Epoch 9/10\n",
            "\u001b[1m500/500\u001b[0m \u001b[32m━━━━━━━━━━━━━━━━━━━━\u001b[0m\u001b[37m\u001b[0m \u001b[1m83s\u001b[0m 112ms/step - accuracy: 1.0000 - loss: 7.4082e-06 - val_accuracy: 0.8655 - val_loss: 0.9953\n",
            "Epoch 10/10\n",
            "\u001b[1m500/500\u001b[0m \u001b[32m━━━━━━━━━━━━━━━━━━━━\u001b[0m\u001b[37m\u001b[0m \u001b[1m83s\u001b[0m 115ms/step - accuracy: 1.0000 - loss: 5.0354e-06 - val_accuracy: 0.8656 - val_loss: 1.0177\n"
          ]
        }
      ],
      "source": [
        "import pandas as pd\n",
        "import numpy as np\n",
        "import pickle\n",
        "from sklearn.model_selection import train_test_split\n",
        "import re\n",
        "import nltk\n",
        "from nltk.corpus import stopwords\n",
        "from nltk.tokenize import word_tokenize\n",
        "from nltk.stem import WordNetLemmatizer\n",
        "from tensorflow.keras.preprocessing.text import Tokenizer\n",
        "from tensorflow.keras.preprocessing.sequence import pad_sequences\n",
        "from tensorflow.keras.models import Sequential\n",
        "from tensorflow.keras.layers import Embedding, Flatten, Dense\n",
        "\n",
        "# Tải tài nguyên NLTK\n",
        "nltk.download('punkt')\n",
        "nltk.download('stopwords')\n",
        "nltk.download('wordnet')\n",
        "\n",
        "# Đọc dữ liệu (thay bằng file của bạn)\n",
        "data = pd.read_csv('-Dataset.csv')\n",
        "\n",
        "# Tiền xử lý văn bản\n",
        "def preprocess_text(text):\n",
        "    text = re.sub(r'<br\\s*/?>', ' ', text)  # Xóa HTML\n",
        "    text = text.lower()  # Chuyển thành chữ thường\n",
        "    text = re.sub(r'[^a-z\\s]', '', text)  # Xóa ký tự đặc biệt\n",
        "    tokens = word_tokenize(text)  # Tách từ\n",
        "    stop_words = set(stopwords.words('english'))  # Stopwords\n",
        "    tokens = [word for word in tokens if word not in stop_words]  # Xóa stopwords\n",
        "    lemmatizer = WordNetLemmatizer()\n",
        "    tokens = [lemmatizer.lemmatize(word) for word in tokens]  # Lemmatization\n",
        "    return ' '.join(tokens)\n",
        "\n",
        "data['review'] = data['review'].apply(preprocess_text)\n",
        "data['sentiment'] = data['sentiment'].map({'positive': 1, 'negative': 0})\n",
        "\n",
        "# Chia dữ liệu\n",
        "X = data['review']\n",
        "y = data['sentiment']\n",
        "X_train, X_test, y_train, y_test = train_test_split(X, y, test_size=0.2, random_state=42)\n",
        "\n",
        "# Vector hóa\n",
        "max_words = 10000  # Số từ tối đa\n",
        "max_len = 300  # Độ dài tối đa của mỗi review\n",
        "tokenizer = Tokenizer(num_words=max_words)\n",
        "tokenizer.fit_on_texts(X_train)\n",
        "X_train_seq = tokenizer.texts_to_sequences(X_train)\n",
        "X_test_seq = tokenizer.texts_to_sequences(X_test)\n",
        "X_train_pad = pad_sequences(X_train_seq, maxlen=max_len)\n",
        "X_test_pad = pad_sequences(X_test_seq, maxlen=max_len)\n",
        "\n",
        "# Xây dựng mô hình ANN\n",
        "model = Sequential()\n",
        "model.add(Embedding(input_dim=max_words, output_dim=128, input_length=max_len))\n",
        "model.add(Flatten())\n",
        "model.add(Dense(128, activation='relu'))\n",
        "model.add(Dense(64, activation='relu'))\n",
        "model.add(Dense(1, activation='sigmoid'))\n",
        "\n",
        "# Biên dịch mô hình\n",
        "model.compile(optimizer='adam', loss='binary_crossentropy', metrics=['accuracy'])\n",
        "\n",
        "# Huấn luyện\n",
        "model.fit(X_train_pad, y_train, epochs=10, batch_size=64, validation_split=0.2)\n",
        "\n",
        "# Sau khi huấn luyện mô hình\n",
        "model.save('sentiment_model.h5')  # Lưu mô hình\n",
        "\n",
        "with open('tokenizer.pkl', 'wb') as f:\n",
        "    pickle.dump(tokenizer, f)  # Lưu tokenizer\n",
        "\n",
        "# Đánh giá\n",
        "loss, accuracy = model.evaluate(X_test_pad, y_test)\n",
        "print(f\"Độ chính xác trên tập test: {accuracy * 100:.2f}%\")"
      ]
    },
    {
      "cell_type": "code",
      "source": [
        "# Tải mô hình và tokenizer\n",
        "from tensorflow.keras.models import load_model\n",
        "import pickle\n",
        "model = load_model('sentiment_model.h5')\n",
        "with open('tokenizer.pkl', 'rb') as f:\n",
        "    tokenizer = pickle.load(f)\n",
        "\n",
        "# Dữ liệu mới\n",
        "new_review = \"Bộ phim này thật sự tuyệt vời, tôi thích nó!\"\n",
        "\n",
        "# Tiền xử lý\n",
        "def preprocess_text(text):\n",
        "    import re\n",
        "    import nltk\n",
        "    from nltk.corpus import stopwords\n",
        "    from nltk.tokenize import word_tokenize\n",
        "    from nltk.stem import WordNetLemmatizer\n",
        "    text = re.sub(r'<br\\s*/?>', ' ', text)\n",
        "    text = text.lower()\n",
        "    text = re.sub(r'[^a-z\\s]', '', text)\n",
        "    tokens = word_tokenize(text)\n",
        "    stop_words = set(stopwords.words('english'))\n",
        "    tokens = [word for word in tokens if word not in stop_words]\n",
        "    lemmatizer = WordNetLemmatizer()\n",
        "    tokens = [lemmatizer.lemmatize(word) for word in tokens]\n",
        "    return ' '.join(tokens)\n",
        "\n",
        "new_review_processed = preprocess_text(new_review)\n",
        "\n",
        "# Vector hóa\n",
        "from tensorflow.keras.preprocessing.sequence import pad_sequences\n",
        "max_len = 300\n",
        "new_review_seq = tokenizer.texts_to_sequences([new_review_processed])\n",
        "new_review_pad = pad_sequences(new_review_seq, maxlen=max_len)\n",
        "\n",
        "# Dự đoán\n",
        "prediction = model.predict(new_review_pad)[0][0]\n",
        "if prediction > 0.5:\n",
        "    print(\"Tích cực\", f\"(Độ tin cậy: {prediction:.2f})\")\n",
        "else:\n",
        "    print(\"Tiêu cực\", f\"(Độ tin cậy: {1 - prediction:.2f})\")"
      ],
      "metadata": {
        "colab": {
          "base_uri": "https://localhost:8080/"
        },
        "id": "_Kk8QCe5Zd7e",
        "outputId": "9f984a65-d72d-4743-8f28-a7181024cfbf"
      },
      "execution_count": 13,
      "outputs": [
        {
          "output_type": "stream",
          "name": "stderr",
          "text": [
            "WARNING:absl:Compiled the loaded model, but the compiled metrics have yet to be built. `model.compile_metrics` will be empty until you train or evaluate the model.\n"
          ]
        },
        {
          "output_type": "stream",
          "name": "stdout",
          "text": [
            "\u001b[1m1/1\u001b[0m \u001b[32m━━━━━━━━━━━━━━━━━━━━\u001b[0m\u001b[37m\u001b[0m \u001b[1m0s\u001b[0m 122ms/step\n",
            "Tích cực (Độ tin cậy: 0.58)\n"
          ]
        }
      ]
    },
    {
      "cell_type": "code",
      "source": [
        "import nltk\n",
        "nltk.download(\"punkt\")"
      ],
      "metadata": {
        "colab": {
          "base_uri": "https://localhost:8080/"
        },
        "collapsed": true,
        "id": "-EwaoRTkWUmX",
        "outputId": "2fd98fae-50e3-4a46-e964-f5f18836cccb"
      },
      "execution_count": 5,
      "outputs": [
        {
          "output_type": "stream",
          "name": "stderr",
          "text": [
            "[nltk_data] Downloading package punkt to /root/nltk_data...\n",
            "[nltk_data]   Package punkt is already up-to-date!\n"
          ]
        },
        {
          "output_type": "execute_result",
          "data": {
            "text/plain": [
              "True"
            ]
          },
          "metadata": {},
          "execution_count": 5
        }
      ]
    },
    {
      "cell_type": "code",
      "source": [],
      "metadata": {
        "colab": {
          "base_uri": "https://localhost:8080/"
        },
        "id": "5wZORWspbWem",
        "outputId": "8b322faa-b359-4112-855a-e086183e6705"
      },
      "execution_count": 12,
      "outputs": [
        {
          "metadata": {
            "tags": null
          },
          "name": "stdout",
          "output_type": "stream",
          "text": [
            "\u001b[31mERROR: Could not find a version that satisfies the requirement pickle (from versions: none)\u001b[0m\u001b[31m\n",
            "\u001b[0m\u001b[31mERROR: No matching distribution found for pickle\u001b[0m\u001b[31m\n",
            "\u001b[0m"
          ]
        }
      ]
    }
  ]
}